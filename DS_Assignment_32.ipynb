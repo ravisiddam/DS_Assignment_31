{
 "cells": [
  {
   "cell_type": "code",
   "execution_count": null,
   "metadata": {},
   "outputs": [],
   "source": []
  },
  {
   "cell_type": "code",
   "execution_count": 1,
   "metadata": {},
   "outputs": [
    {
     "name": "stdout",
     "output_type": "stream",
     "text": [
      "please enter some words My Name is Ravi and I am doing Data Science from ACADGILD\n",
      "ACADGILD\n"
     ]
    }
   ],
   "source": [
    "def longestWord(list):\n",
    "    long_word = ''\n",
    "    for word in list:\n",
    "        if len(word) > len(long_word):\n",
    "             long_word = word\n",
    "    print(long_word)\n",
    "\n",
    "        \n",
    "mylist = input('please enter some words ')\n",
    "word_list = mylist.split()\n",
    "longestWord(word_list)"
   ]
  },
  {
   "cell_type": "code",
   "execution_count": null,
   "metadata": {},
   "outputs": [],
   "source": []
  },
  {
   "cell_type": "code",
   "execution_count": null,
   "metadata": {},
   "outputs": [],
   "source": []
  }
 ],
 "metadata": {
  "kernelspec": {
   "display_name": "Python 3",
   "language": "python",
   "name": "python3"
  },
  "language_info": {
   "codemirror_mode": {
    "name": "ipython",
    "version": 3
   },
   "file_extension": ".py",
   "mimetype": "text/x-python",
   "name": "python",
   "nbconvert_exporter": "python",
   "pygments_lexer": "ipython3",
   "version": "3.6.5"
  }
 },
 "nbformat": 4,
 "nbformat_minor": 2
}
